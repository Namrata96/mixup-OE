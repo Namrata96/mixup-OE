{
 "metadata": {
  "language_info": {
   "codemirror_mode": {
    "name": "ipython",
    "version": 3
   },
   "file_extension": ".py",
   "mimetype": "text/x-python",
   "name": "python",
   "nbconvert_exporter": "python",
   "pygments_lexer": "ipython3",
   "version": "3.8.5-final"
  },
  "orig_nbformat": 2,
  "kernelspec": {
   "name": "python3",
   "display_name": "Python 3.8.5 64-bit ('base': conda)",
   "metadata": {
    "interpreter": {
     "hash": "ceafda77be2c3b4f963c771e74de69b84fd6121eca1fda99167181197374f065"
    }
   }
  }
 },
 "nbformat": 4,
 "nbformat_minor": 2,
 "cells": [
  {
   "cell_type": "code",
   "execution_count": 1,
   "metadata": {},
   "outputs": [],
   "source": [
    "import numpy as np\n",
    "import matplotlib.pyplot as plt\n",
    "import torch"
   ]
  },
  {
   "cell_type": "code",
   "execution_count": 3,
   "metadata": {},
   "outputs": [],
   "source": [
    "X_embed = np.load(\"../../Results/embeddings/CIFAR10_MNIST_train_embeddings.npy\")\n",
    "y_embed = np.load(\"../../Results/embeddings/CIFAR10_MNIST_train_targets.npy\")"
   ]
  },
  {
   "cell_type": "code",
   "execution_count": 4,
   "metadata": {},
   "outputs": [],
   "source": [
    "device = 'cuda' if torch.cuda.is_available() else 'cpu'\n",
    "x_train_tensor = torch.from_numpy(X_embed).float().to(device)\n",
    "y_train_tensor = torch.from_numpy(y_embed).float().to(device)"
   ]
  },
  {
   "cell_type": "code",
   "execution_count": 11,
   "metadata": {},
   "outputs": [],
   "source": [
    "def mixup_data(x_train_tensor, y_train_tensor, lambda_val, use_cuda):\n",
    "    batch_size = x_train_tensor.size()[0]\n",
    "    if use_cuda:\n",
    "        index = torch.randperm(batch_size).cuda()\n",
    "    else:\n",
    "        index = torch.randperm(batch_size)\n",
    "    a = lambda_val*x_train_tensor + (1-lambda_val)*x_train_tensor[index,:]\n",
    "    print(\"a.shape:\", a.shape)\n",
    "    b = lambda_val*y_train_tensor + (1-lambda_val)*y_train_tensor[index]\n",
    "    return a, b"
   ]
  },
  {
   "cell_type": "code",
   "execution_count": 12,
   "metadata": {},
   "outputs": [],
   "source": [
    "use_cuda = True if device == 'cuda' else False\n",
    "lambda_val = 1.5\n",
    "a, b = mixup_data(x_train_tensor, y_train_tensor, lambda_val, use_cuda)"
   ]
  },
  {
   "cell_type": "code",
   "execution_count": 19,
   "metadata": {},
   "outputs": [],
   "source": [
    "if not os.path.isdir('data'):\n",
    "    os.mkdir('data')\n",
    "if not os.path.isdir('data/extrapolated_embeddings'):\n",
    "    os.mkdir('data/extrapolated_embeddings')"
   ]
  },
  {
   "cell_type": "code",
   "execution_count": 21,
   "metadata": {},
   "outputs": [],
   "source": [
    "np.save(f'data/extrapolated_embeddings/CIFAR10_mixup_extrapolated_embeddings.npy', a)\n",
    "np.save(f'data/extrapolated_embeddings/CIFAR10_mixup_extrapolated_targets.npy', b)"
   ]
  }
 ]
}