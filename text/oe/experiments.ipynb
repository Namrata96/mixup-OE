{
 "cells": [
  {
   "cell_type": "code",
   "execution_count": 2,
   "id": "molecular-grace",
   "metadata": {},
   "outputs": [
    {
     "name": "stderr",
     "output_type": "stream",
     "text": [
      "Some weights of the model checkpoint at roberta-base were not used when initializing RobertaForSequenceClassification: ['lm_head.bias', 'lm_head.dense.weight', 'lm_head.dense.bias', 'lm_head.layer_norm.weight', 'lm_head.layer_norm.bias', 'lm_head.decoder.weight']\n",
      "- This IS expected if you are initializing RobertaForSequenceClassification from the checkpoint of a model trained on another task or with another architecture (e.g. initializing a BertForSequenceClassification model from a BertForPretraining model).\n",
      "- This IS NOT expected if you are initializing RobertaForSequenceClassification from the checkpoint of a model that you expect to be exactly identical (initializing a BertForSequenceClassification model from a BertForSequenceClassification model).\n",
      "Some weights of RobertaForSequenceClassification were not initialized from the model checkpoint at roberta-base and are newly initialized: ['classifier.dense.weight', 'classifier.dense.bias', 'classifier.out_proj.weight', 'classifier.out_proj.bias']\n",
      "You should probably TRAIN this model on a down-stream task to be able to use it for predictions and inference.\n"
     ]
    }
   ],
   "source": [
    "from transformers import (RobertaConfig, RobertaTokenizer, RobertaForSequenceClassification)\n",
    "\n",
    "roberta_version = 'roberta-base'\n",
    "num_labels = 2\n",
    "\n",
    "config = RobertaConfig.from_pretrained(roberta_version, num_labels=num_labels)\n",
    "tokenizer = RobertaTokenizer.from_pretrained(roberta_version)\n",
    "model = RobertaForSequenceClassification.from_pretrained(roberta_version, config=config)"
   ]
  },
  {
   "cell_type": "code",
   "execution_count": 4,
   "id": "editorial-civilization",
   "metadata": {},
   "outputs": [
    {
     "data": {
      "text/plain": [
       "RobertaClassificationHead(\n",
       "  (dense): Linear(in_features=768, out_features=768, bias=True)\n",
       "  (dropout): Dropout(p=0.1, inplace=False)\n",
       "  (out_proj): Linear(in_features=768, out_features=2, bias=True)\n",
       ")"
      ]
     },
     "execution_count": 4,
     "metadata": {},
     "output_type": "execute_result"
    }
   ],
   "source": [
    "model.classifier"
   ]
  },
  {
   "cell_type": "code",
   "execution_count": 20,
   "id": "municipal-cherry",
   "metadata": {},
   "outputs": [
    {
     "data": {
      "text/plain": [
       "torch.Size([1, 768])"
      ]
     },
     "execution_count": 20,
     "metadata": {},
     "output_type": "execute_result"
    }
   ],
   "source": [
    "import torch\n",
    "\n",
    "data = torch.zeros((1, 768))\n",
    "data.size()"
   ]
  },
  {
   "cell_type": "code",
   "execution_count": 21,
   "id": "stable-launch",
   "metadata": {},
   "outputs": [
    {
     "data": {
      "text/plain": [
       "tensor([[0., 0.]], grad_fn=<AddmmBackward>)"
      ]
     },
     "execution_count": 21,
     "metadata": {},
     "output_type": "execute_result"
    }
   ],
   "source": [
    "data = data.unsqueeze(1)\n",
    "model.classifier(data)"
   ]
  },
  {
   "cell_type": "code",
   "execution_count": 49,
   "id": "flush-leeds",
   "metadata": {},
   "outputs": [
    {
     "data": {
      "text/plain": [
       "0.5792827091975596"
      ]
     },
     "execution_count": 49,
     "metadata": {},
     "output_type": "execute_result"
    }
   ],
   "source": [
    "import numpy as np\n",
    "\n",
    "np.random.beta(2, 2)"
   ]
  },
  {
   "cell_type": "code",
   "execution_count": 61,
   "id": "requested-dealing",
   "metadata": {},
   "outputs": [
    {
     "data": {
      "text/plain": [
       "0"
      ]
     },
     "execution_count": 61,
     "metadata": {},
     "output_type": "execute_result"
    }
   ],
   "source": [
    "np.random.randint(0, 2)"
   ]
  },
  {
   "cell_type": "code",
   "execution_count": 62,
   "id": "textile-gazette",
   "metadata": {},
   "outputs": [],
   "source": [
    "def extrapolate(ex1, ex2, alpha=2.0):\n",
    "    mag = np.random.beta(alpha, alpha)\n",
    "    direction = np.random.randint(0, 2)\n",
    "    multiplier = 10\n",
    "    if direction:\n",
    "        lam = 1 + multiplier*mag\n",
    "    else:\n",
    "        lam = -multiplier*mag\n",
    "    return lam"
   ]
  },
  {
   "cell_type": "code",
   "execution_count": 86,
   "id": "stock-article",
   "metadata": {},
   "outputs": [
    {
     "data": {
      "text/plain": [
       "9.389787567315624"
      ]
     },
     "execution_count": 86,
     "metadata": {},
     "output_type": "execute_result"
    }
   ],
   "source": [
    "extrapolate(0, 0)"
   ]
  },
  {
   "cell_type": "code",
   "execution_count": 107,
   "id": "present-president",
   "metadata": {},
   "outputs": [],
   "source": [
    "labels = torch.cat((torch.zeros(10), torch.ones(6), torch.zeros(4), torch.ones(4)*2))"
   ]
  },
  {
   "cell_type": "code",
   "execution_count": 108,
   "id": "documented-operation",
   "metadata": {},
   "outputs": [
    {
     "data": {
      "text/plain": [
       "torch.Size([24])"
      ]
     },
     "execution_count": 108,
     "metadata": {},
     "output_type": "execute_result"
    }
   ],
   "source": [
    "labels.size()"
   ]
  },
  {
   "cell_type": "code",
   "execution_count": 109,
   "id": "electrical-practice",
   "metadata": {},
   "outputs": [],
   "source": [
    "valid_indices = (labels != labels[0]).nonzero(as_tuple=True)[0]"
   ]
  },
  {
   "cell_type": "code",
   "execution_count": 110,
   "id": "excess-symbol",
   "metadata": {},
   "outputs": [
    {
     "data": {
      "text/plain": [
       "tensor([10, 11, 12, 13, 14, 15, 20, 21, 22, 23])"
      ]
     },
     "execution_count": 110,
     "metadata": {},
     "output_type": "execute_result"
    }
   ],
   "source": [
    "valid_indices"
   ]
  },
  {
   "cell_type": "code",
   "execution_count": 111,
   "id": "attractive-purchase",
   "metadata": {},
   "outputs": [],
   "source": [
    "test = np.zeros((5, 10))"
   ]
  },
  {
   "cell_type": "code",
   "execution_count": null,
   "id": "sudden-retreat",
   "metadata": {},
   "outputs": [],
   "source": []
  }
 ],
 "metadata": {
  "kernelspec": {
   "display_name": "Python [conda env:ood] *",
   "language": "python",
   "name": "conda-env-ood-py"
  },
  "language_info": {
   "codemirror_mode": {
    "name": "ipython",
    "version": 3
   },
   "file_extension": ".py",
   "mimetype": "text/x-python",
   "name": "python",
   "nbconvert_exporter": "python",
   "pygments_lexer": "ipython3",
   "version": "3.8.5"
  }
 },
 "nbformat": 4,
 "nbformat_minor": 5
}
