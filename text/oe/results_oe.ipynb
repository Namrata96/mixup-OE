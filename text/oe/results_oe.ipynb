{
 "cells": [
  {
   "cell_type": "code",
   "execution_count": 21,
   "id": "random-yorkshire",
   "metadata": {},
   "outputs": [
    {
     "name": "stdout",
     "output_type": "stream",
     "text": [
      "Oops on large_news_top5_news_rest_probs.npy\n",
      "Oops on large_imdb_glue_sst2_probs.npy\n",
      "Oops on large_news_top5_news_rest_msp.npy\n",
      "Oops on large_imdb_imdb_msp.npy\n",
      "Oops on large_imdb_c-imdb_msp.npy\n",
      "Oops on large_imdb_glue_sst2_msp.npy\n",
      "Oops on large_imdb_yelp_polarity_probs.npy\n",
      "Oops on large_imdb_yelp_polarity_msp.npy\n",
      "Oops on large_imdb_c-imdb_probs.npy\n",
      "Oops on large_news_top5_news_top5_msp.npy\n"
     ]
    }
   ],
   "source": [
    "import os\n",
    "import sys\n",
    "from pprint import pprint\n",
    "sys.path.insert(0, '../..')\n",
    "\n",
    "from process_signals import get_signals, get_df, bg_sizes, stress_list, num_tops\n",
    "\n",
    "base_path = os.path.join('..', '..', 'acl21_output')\n",
    "\n",
    "signals = get_signals(base_path, roberta_name='roberta_renamed')\n",
    "signals_oe = get_signals(base_path, roberta_name='roberta_oe')\n",
    "signals_oe_2 = get_signals(base_path, roberta_name='roberta_oe/alpha_2.0')\n",
    "signals_oe_5 = get_signals(base_path, roberta_name='roberta_oe/alpha_5.0')\n",
    "# summary_df, score2plot, metric2plot, dataset2plot, id_ood_map = get_df(signals)"
   ]
  },
  {
   "cell_type": "code",
   "execution_count": 23,
   "id": "paperback-shopping",
   "metadata": {},
   "outputs": [],
   "source": [
    "# pprint(list(signals['msp'].keys()))"
   ]
  },
  {
   "cell_type": "code",
   "execution_count": 3,
   "id": "emotional-evolution",
   "metadata": {},
   "outputs": [],
   "source": [
    "# summary_df, score2plot, metric2plot, dataset2plot, id_ood_map = get_df(signals)"
   ]
  },
  {
   "cell_type": "code",
   "execution_count": 4,
   "id": "superb-religion",
   "metadata": {},
   "outputs": [],
   "source": [
    "# signals['msp'][('imdb', 'imdb')].shape, signals['msp'][('imdb', 'yelp_polarity')].shape"
   ]
  },
  {
   "cell_type": "code",
   "execution_count": 24,
   "id": "tough-joining",
   "metadata": {},
   "outputs": [
    {
     "name": "stdout",
     "output_type": "stream",
     "text": [
      "[('mnli_travel', 'mnli_government'),\n",
      " ('mnli_slate', 'mnli_telephone'),\n",
      " ('mnli_travel', 'mnli_fiction'),\n",
      " ('imdb', 'glue_sst2'),\n",
      " ('mnli_slate', 'mnli_slate'),\n",
      " ('mnli_slate', 'mnli_government'),\n",
      " ('mnli_government', 'mnli_government'),\n",
      " ('mnli_government', 'mnli_slate'),\n",
      " ('mnli_telephone', 'mnli_travel'),\n",
      " ('yelp_polarity', 'yelp_polarity'),\n",
      " ('mnli_travel', 'mnli_travel'),\n",
      " ('mnli_travel', 'mnli_slate'),\n",
      " ('mnli_telephone', 'mnli_slate'),\n",
      " ('news_top5', 'news_top5'),\n",
      " ('glue_sst2', 'imdb'),\n",
      " ('glue_sst2', 'glue_sst2'),\n",
      " ('yelp_polarity', 'glue_sst2'),\n",
      " ('mnli_fiction', 'mnli_travel'),\n",
      " ('dbpedia_top4', 'dbpedia_rest'),\n",
      " ('imdb', 'yelp_polarity'),\n",
      " ('mnli_travel', 'mnli_telephone'),\n",
      " ('glue_sst2', 'yelp_polarity'),\n",
      " ('mnli_telephone', 'mnli_telephone'),\n",
      " ('dbpedia_top4', 'dbpedia_top4'),\n",
      " ('mnli_slate', 'mnli_fiction'),\n",
      " ('news_top5', 'news_rest'),\n",
      " ('mnli_fiction', 'mnli_telephone'),\n",
      " ('mnli_government', 'mnli_travel'),\n",
      " ('yelp_polarity', 'imdb'),\n",
      " ('mnli_telephone', 'mnli_government'),\n",
      " ('imdb', 'imdb'),\n",
      " ('mnli_fiction', 'mnli_slate'),\n",
      " ('mnli_slate', 'mnli_travel'),\n",
      " ('mnli_fiction', 'mnli_government'),\n",
      " ('mnli_government', 'mnli_fiction'),\n",
      " ('mnli_fiction', 'mnli_fiction'),\n",
      " ('mnli_government', 'mnli_telephone'),\n",
      " ('mnli_telephone', 'mnli_fiction')]\n"
     ]
    }
   ],
   "source": [
    "pprint(list(signals_oe['msp'].keys()))"
   ]
  },
  {
   "cell_type": "code",
   "execution_count": 34,
   "id": "meaningful-douglas",
   "metadata": {},
   "outputs": [
    {
     "name": "stdout",
     "output_type": "stream",
     "text": [
      "1 2 3\n"
     ]
    }
   ],
   "source": [
    "test = [1, 2, 3]\n",
    "print(*test)"
   ]
  },
  {
   "cell_type": "code",
   "execution_count": 25,
   "id": "bacterial-father",
   "metadata": {},
   "outputs": [],
   "source": [
    "from termcolor import colored\n",
    "# print(colored('hello', 'red'), colored('world', 'green'))\n",
    "# print(colored(\"hello red world\", 'red'))"
   ]
  },
  {
   "cell_type": "code",
   "execution_count": 35,
   "id": "norwegian-action",
   "metadata": {},
   "outputs": [],
   "source": [
    "import utils\n",
    "from utils import compute_auroc\n",
    "\n",
    "def eval_signals_auroc(signals, id_data, ood_data):\n",
    "    return round(compute_auroc(-signals['msp'][(id_data, id_data)], -signals['msp'][(id_data, ood_data)]), 2)\n",
    "\n",
    "def eval_both_signals(id_data, ood_data):\n",
    "    base_score = eval_signals_auroc(signals, id_data, ood_data)\n",
    "    oe_score = eval_signals_auroc(signals_oe, id_data, ood_data)\n",
    "    oe_score_2 = eval_signals_auroc(signals_oe_2, id_data, ood_data)\n",
    "    oe_score_5 = eval_signals_auroc(signals_oe_5, id_data, ood_data)\n",
    "    return base_score, [oe_score, oe_score_2, oe_score_5]\n",
    "\n",
    "def print_both_signals(id_data, ood_data):\n",
    "    base_score, oe_scores = eval_both_signals(id_data, ood_data)\n",
    "    if base_score > max(oe_scores):\n",
    "        print(colored(base_score, 'red'), *oe_scores)\n",
    "    else:\n",
    "        print(base_score, *[colored(oe_score, 'green') if oe_score == max(oe_scores) else oe_score for oe_score in oe_scores])"
   ]
  },
  {
   "cell_type": "code",
   "execution_count": 36,
   "id": "tender-break",
   "metadata": {},
   "outputs": [
    {
     "name": "stdout",
     "output_type": "stream",
     "text": [
      "SST2 vs IMDB: 66.21 \u001b[32m68.5\u001b[0m 67.42 68.08\n",
      "SST2 vs Yelp: 57.46 \u001b[32m62.63\u001b[0m 62.52 60.81\n",
      "\n",
      "IMDB vs SST2: 82.58 80.98 83.22 \u001b[32m83.37\u001b[0m\n",
      "IMDB vs Yelp: 67.15 64.39 71.83 \u001b[32m72.48\u001b[0m\n",
      "\n",
      "Yelp vs SST2: \u001b[31m85.89\u001b[0m 80.96 82.84 75.76\n",
      "Yelp vs IMDB: 61.77 57.19 \u001b[32m64.31\u001b[0m 55.91\n"
     ]
    }
   ],
   "source": [
    "print('SST2 vs IMDB:', end=\" \")\n",
    "print_both_signals('glue_sst2', 'imdb')\n",
    "print('SST2 vs Yelp:', end=\" \")\n",
    "print_both_signals('glue_sst2', 'yelp_polarity')\n",
    "print()\n",
    "\n",
    "print('IMDB vs SST2:', end=\" \")\n",
    "print_both_signals('imdb', 'glue_sst2')\n",
    "print('IMDB vs Yelp:', end=\" \")\n",
    "print_both_signals('imdb', 'yelp_polarity')\n",
    "print()\n",
    "\n",
    "print('Yelp vs SST2:', end=\" \")\n",
    "print_both_signals('yelp_polarity', 'glue_sst2')\n",
    "print('Yelp vs IMDB:', end=\" \")\n",
    "print_both_signals('yelp_polarity', 'imdb')"
   ]
  },
  {
   "cell_type": "code",
   "execution_count": 37,
   "id": "amber-webcam",
   "metadata": {},
   "outputs": [
    {
     "name": "stdout",
     "output_type": "stream",
     "text": [
      "News Top5 vs News Rest: \u001b[31m78.89\u001b[0m 78.34 77.77 78.74\n",
      "DBPedia Top4 vs DBPedia Rest: 88.83 \u001b[32m89.67\u001b[0m 89.3 88.97\n"
     ]
    }
   ],
   "source": [
    "print('News Top5 vs News Rest:', end=\" \")\n",
    "print_both_signals('news_top5', 'news_rest')\n",
    "\n",
    "print('DBPedia Top4 vs DBPedia Rest:', end=\" \")\n",
    "print_both_signals('dbpedia_top4', 'dbpedia_rest')"
   ]
  },
  {
   "cell_type": "code",
   "execution_count": 38,
   "id": "positive-smoke",
   "metadata": {},
   "outputs": [],
   "source": [
    "mnli_genre_negative_idxs = {'mnli_fiction': [79, 185, 476, 508, 573, 594, 677, 686, 748, 836, 1024, 1075, 1110, 1158, 1314, 1359, 1418, 1435, 1458, 1476, 1537, 1561, 1619, 1828, 1848, 1924, 1939],\n",
    "'mnli_government': [20, 39, 89, 195, 197, 243, 244, 268, 273, 297, 349, 369, 381, 611, 669, 675, 682, 782, 788, 796, 924, 945, 951, 992, 996, 1021, 1056, 1074, 1085, 1121, 1143, 1230, 1233, 1257, 1413, 1443, 1464, 1500, 1540, 1542, 1556, 1569, 1573, 1576, 1590, 1603, 1608, 1612, 1637, 1680, 1698, 1700, 1713, 1845, 1992],\n",
    "'mnli_slate': [25, 54, 74, 90, 122, 173, 200, 222, 280, 291, 326, 339, 487, 580, 648, 674, 700, 712, 731, 899, 902, 959, 970, 1000, 1056, 1133, 1138, 1147, 1170, 1223, 1247, 1258, 1282, 1316, 1466, 1496, 1497, 1580, 1613, 1651, 1675, 1854, 1942, 1964, 1988],\n",
    "'mnli_telephone': [155, 216, 257, 349, 368, 414, 479, 636, 675, 741, 755, 925, 968, 1040, 1095, 1168, 1172, 1181, 1212, 1222, 1238, 1371, 1387, 1444, 1554, 1581, 1605, 1713, 1732, 1777, 1856, 1920, 1930, 1987],\n",
    "'mnli_travel': [34, 139, 148, 273, 455, 537, 585, 800, 807, 808, 970, 1072, 1163, 1210, 1233, 1234, 1239, 1291, 1317, 1358, 1475, 1815, 1904, 1929]}\n",
    "\n",
    "mnli_genres = list(mnli_genre_negative_idxs.keys())"
   ]
  },
  {
   "cell_type": "code",
   "execution_count": 39,
   "id": "cardiovascular-lyric",
   "metadata": {},
   "outputs": [
    {
     "name": "stdout",
     "output_type": "stream",
     "text": [
      "\n",
      "----mnli_fiction vs\n",
      "mnli_government: 48.54 \u001b[32m56.75\u001b[0m 48.95 49.27\n",
      "mnli_slate: 54.07 \u001b[32m60.45\u001b[0m 53.66 54.13\n",
      "mnli_telephone: 50.96 \u001b[32m58.09\u001b[0m 51.47 50.95\n",
      "mnli_travel: 49.94 \u001b[32m59.68\u001b[0m 50.75 51.77\n",
      "\n",
      "----mnli_government vs\n",
      "mnli_fiction: 57.44 \u001b[32m61.13\u001b[0m 59.62 59.71\n",
      "mnli_slate: 58.29 \u001b[32m61.09\u001b[0m 58.82 59.0\n",
      "mnli_telephone: 57.62 \u001b[32m62.06\u001b[0m 58.99 60.3\n",
      "mnli_travel: 57.12 \u001b[32m59.43\u001b[0m 56.75 56.62\n",
      "\n",
      "----mnli_slate vs\n",
      "mnli_fiction: 48.21 \u001b[32m52.33\u001b[0m 49.25 49.06\n",
      "mnli_government: 45.3 \u001b[32m46.82\u001b[0m 44.11 44.67\n",
      "mnli_telephone: 49.76 \u001b[32m55.09\u001b[0m 51.04 51.78\n",
      "mnli_travel: 46.83 \u001b[32m51.09\u001b[0m 47.44 47.66\n",
      "\n",
      "----mnli_telephone vs\n",
      "mnli_fiction: 55.85 56.98 \u001b[32m58.37\u001b[0m 56.75\n",
      "mnli_government: 52.53 \u001b[32m54.43\u001b[0m 53.86 54.13\n",
      "mnli_slate: 59.17 59.61 \u001b[32m60.34\u001b[0m 59.24\n",
      "mnli_travel: 56.81 57.1 \u001b[32m58.39\u001b[0m 57.38\n",
      "\n",
      "----mnli_travel vs\n",
      "mnli_fiction: 54.75 59.11 \u001b[32m61.36\u001b[0m 57.92\n",
      "mnli_government: 49.0 49.32 \u001b[32m50.05\u001b[0m 48.8\n",
      "mnli_slate: 55.75 57.89 \u001b[32m59.98\u001b[0m 57.67\n",
      "mnli_telephone: 56.02 57.86 \u001b[32m60.47\u001b[0m 55.75\n"
     ]
    }
   ],
   "source": [
    "for id_genre in mnli_genres:\n",
    "    print(f\"\\n----{id_genre} vs\")\n",
    "    for ood_genre in mnli_genres:\n",
    "        if id_genre == ood_genre:\n",
    "            continue\n",
    "#         res = eval_signals_auroc(signals, id_genre, ood_genre)\n",
    "        print(f\"{ood_genre}:\", end=\" \")\n",
    "        print_both_signals(id_genre, ood_genre)"
   ]
  },
  {
   "cell_type": "code",
   "execution_count": 9,
   "id": "controversial-georgia",
   "metadata": {},
   "outputs": [],
   "source": [
    "# print('SST2 vs IMDB:', eval_signals_auroc(signals, 'glue_sst2', 'imdb'))\n",
    "# print('SST2 vs Yelp:', eval_signals_auroc(signals, 'glue_sst2', 'yelp_polarity'))\n",
    "# print()\n",
    "\n",
    "# print('IMDB vs SST2:', eval_signals_auroc(signals, 'imdb', 'glue_sst2'))\n",
    "# print('IMDB vs Yelp:', eval_signals_auroc(signals, 'imdb', 'yelp_polarity'))\n",
    "# print()\n",
    "\n",
    "# print('Yelp vs SST2:', eval_signals_auroc(signals, 'yelp_polarity', 'glue_sst2'))\n",
    "# print('Yelp vs IMDB:', eval_signals_auroc(signals, 'yelp_polarity', 'imdb'))"
   ]
  },
  {
   "cell_type": "code",
   "execution_count": 11,
   "id": "median-douglas",
   "metadata": {},
   "outputs": [],
   "source": [
    "# print('News Top5 vs News Rest:', eval_signals_auroc(signals, 'news_top5', 'news_rest'))\n",
    "# print('DBPedia Top4 vs DBPedia Rest:', eval_signals_auroc(signals, 'dbpedia_top4', 'dbpedia_rest'))"
   ]
  },
  {
   "cell_type": "code",
   "execution_count": 37,
   "id": "recovered-combination",
   "metadata": {},
   "outputs": [
    {
     "name": "stdout",
     "output_type": "stream",
     "text": [
      "\n",
      "----mnli_fiction vs\n",
      "mnli_government: 56.75\n",
      "mnli_slate: 60.45\n",
      "mnli_telephone: 58.09\n",
      "mnli_travel: 59.68\n",
      "\n",
      "----mnli_government vs\n",
      "mnli_fiction: 61.13\n",
      "mnli_slate: 61.09\n",
      "mnli_telephone: 62.06\n",
      "mnli_travel: 59.43\n",
      "\n",
      "----mnli_slate vs\n",
      "mnli_fiction: 52.33\n",
      "mnli_government: 46.82\n",
      "mnli_telephone: 55.09\n",
      "mnli_travel: 51.09\n",
      "\n",
      "----mnli_telephone vs\n",
      "mnli_fiction: 56.98\n",
      "mnli_government: 54.43\n",
      "mnli_slate: 59.61\n",
      "mnli_travel: 57.1\n",
      "\n",
      "----mnli_travel vs\n",
      "mnli_fiction: 59.11\n",
      "mnli_government: 49.32\n",
      "mnli_slate: 57.89\n",
      "mnli_telephone: 57.86\n"
     ]
    }
   ],
   "source": [
    "for id_genre in mnli_genres:\n",
    "    print(f\"\\n----{id_genre} vs\")\n",
    "    for ood_genre in mnli_genres:\n",
    "        if id_genre == ood_genre:\n",
    "            continue\n",
    "        res = eval_signals_auroc(signals, id_genre, ood_genre)\n",
    "        print(f\"{ood_genre}: {res}\")"
   ]
  },
  {
   "cell_type": "code",
   "execution_count": null,
   "id": "adjacent-hawaiian",
   "metadata": {},
   "outputs": [],
   "source": []
  },
  {
   "cell_type": "markdown",
   "id": "scheduled-registrar",
   "metadata": {},
   "source": [
    "### AUROC curves"
   ]
  },
  {
   "cell_type": "code",
   "execution_count": 46,
   "id": "generous-tribe",
   "metadata": {},
   "outputs": [],
   "source": [
    "import matplotlib.pyplot as plt\n",
    "\n",
    "def show_curve(signals, id_name, ood_name):\n",
    "    fpr, tpr, thresholds = compute_auroc(-signals['msp'][(id_name, id_name)], -signals['msp'][(id_name, ood_name)], return_curve=True)\n",
    "    score = compute_auroc(-signals['msp'][(id_name, id_name)], -signals['msp'][(id_name, ood_name)], return_curve=False)\n",
    "    plt.figure()\n",
    "    lw = 2\n",
    "    plt.plot(fpr, tpr, color='darkorange',\n",
    "             lw=lw, label='ROC curve (area = %0.2f)' % score)\n",
    "    plt.plot([0, 1], [0, 1], color='navy', lw=lw, linestyle='--')\n",
    "    plt.xlim([0.0, 1.0])\n",
    "    plt.ylim([0.0, 1.05])\n",
    "    plt.xlabel('False Positive Rate')\n",
    "    plt.ylabel('True Positive Rate')\n",
    "    plt.title(f'Receiver operating characteristic - {id_name} vs {ood_name}')\n",
    "    plt.legend(loc=\"lower right\")\n",
    "    plt.show()"
   ]
  },
  {
   "cell_type": "code",
   "execution_count": 47,
   "id": "multiple-spoke",
   "metadata": {},
   "outputs": [
    {
     "data": {
      "image/png": "[encoded data removed]",
      "text/plain": [
       "<Figure size 432x288 with 1 Axes>"
      ]
     },
     "metadata": {
      "needs_background": "light"
     },
     "output_type": "display_data"
    }
   ],
   "source": [
    "show_curve(signals, 'glue_sst2', 'yelp_polarity')"
   ]
  },
  {
   "cell_type": "code",
   "execution_count": 48,
   "id": "agreed-volleyball",
   "metadata": {},
   "outputs": [
    {
     "data": {
      "image/png": "[encoded data removed]",
      "text/plain": [
       "<Figure size 432x288 with 1 Axes>"
      ]
     },
     "metadata": {
      "needs_background": "light"
     },
     "output_type": "display_data"
    }
   ],
   "source": [
    "show_curve(signals_oe_2, 'glue_sst2', 'yelp_polarity')"
   ]
  },
  {
   "cell_type": "markdown",
   "id": "civic-involvement",
   "metadata": {},
   "source": [
    "### Beta curve"
   ]
  },
  {
   "cell_type": "code",
   "execution_count": 86,
   "id": "elegant-throat",
   "metadata": {},
   "outputs": [
    {
     "data": {
      "image/png": "[encoded data removed]",
      "text/plain": [
       "<Figure size 504x504 with 1 Axes>"
      ]
     },
     "metadata": {
      "needs_background": "light"
     },
     "output_type": "display_data"
    }
   ],
   "source": [
    "import numpy as np\n",
    "import matplotlib.pyplot as plt\n",
    "from scipy.stats import beta\n",
    "#\n",
    "# Set the shape paremeters\n",
    "#\n",
    "a, b = 2, 2\n",
    "#\n",
    "# Generate the value between\n",
    "#\n",
    "x = np.linspace(beta.ppf(0.01, a, b),beta.ppf(0.99, a, b), 100)\n",
    "#\n",
    "# Plot the beta distribution\n",
    "#\n",
    "plt.figure(figsize=(7,7))\n",
    "# plt.xlim(0.7, 1)\n",
    "plt.plot(1 + 10*x, beta.pdf(x, 2, 2), 'r-', label=r'$\\beta(2,2)$')\n",
    "plt.plot(1 + 10*x, beta.pdf(x, 5, 5), 'b-', label=r'$\\beta(5,5)$')\n",
    "plt.vlines(x=2, ymin=-0.1, ymax=2.5, colors='green', ls=':', lw=2, label=r'$\\lambda=2$')\n",
    "plt.title('Beta Distribution', fontsize='15')\n",
    "plt.xlabel(r'Values of $|\\lambda|$ (1, 11)', fontsize='16')\n",
    "plt.ylabel('Probability', fontsize='16')\n",
    "plt.legend(fontsize=15)\n",
    "plt.show()"
   ]
  },
  {
   "cell_type": "code",
   "execution_count": null,
   "id": "approved-helen",
   "metadata": {},
   "outputs": [],
   "source": []
  }
 ],
 "metadata": {
  "kernelspec": {
   "display_name": "Python [conda env:ood] *",
   "language": "python",
   "name": "conda-env-ood-py"
  },
  "language_info": {
   "codemirror_mode": {
    "name": "ipython",
    "version": 3
   },
   "file_extension": ".py",
   "mimetype": "text/x-python",
   "name": "python",
   "nbconvert_exporter": "python",
   "pygments_lexer": "ipython3",
   "version": "3.8.5"
  }
 },
 "nbformat": 4,
 "nbformat_minor": 5
}
